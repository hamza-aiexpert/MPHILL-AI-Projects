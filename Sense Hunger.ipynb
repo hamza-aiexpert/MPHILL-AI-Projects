{
 "cells": [
  {
   "cell_type": "markdown",
   "source": [
    "## Testing\n"
   ],
   "metadata": {
    "collapsed": false
   },
   "id": "9f1a2bfc81b66c7f"
  },
  {
   "cell_type": "code",
   "execution_count": null,
   "outputs": [],
   "source": [
    "from sklearn.impute import SimpleImputer\n",
    "import pandas as pd\n",
    "import joblib\n",
    "\n",
    "def DetectHunger(main_dir, data, model):\n",
    "    # data = pd.read_csv(file)    \n",
    "\n",
    "    X = data.drop('Label', axis=1)\n",
    "    y = data['Label']\n",
    "\n",
    "    imputer = SimpleImputer(strategy='mean')\n",
    "    X = imputer.fit_transform(X)\n",
    "\n",
    "    #X_train, X_test, y_train, y_test = train_test_split(X, y, test_size=0.3, random_state=42)\n",
    "    \n",
    "    if(model == \"RF_15\"):\n",
    "        model = joblib.load(f\"{main_dir}TrainedModels/randomforest_15_interval_model.joblib\")\n",
    "    elif(model == \"RF_30\"):\n",
    "        model = joblib.load(f\"{main_dir}TrainedModels/randomforest_30_interval_model.joblib\")\n",
    "    elif(model == \"RF_60\"):\n",
    "        model = joblib.load(f\"{main_dir}TrainedModels/randomforest_60_interval_model.joblib\")\n",
    "        \n",
    "    elif(model == \"SVM_15\"):\n",
    "        model = joblib.load(f\"{main_dir}TrainedModels/svm_15_interval_model.joblib\")\n",
    "    elif(model == \"SVM_30\"):\n",
    "        model = joblib.load(f\"{main_dir}TrainedModels/svm_30_interval_model.joblib\")\n",
    "    elif(model == \"SVM_60\"):\n",
    "        model = joblib.load(f\"{main_dir}TrainedModels/svm_60_interval_model.joblib\")\n",
    "        \n",
    "    elif(model == \"NB_15\"):\n",
    "        model = joblib.load(f\"{main_dir}TrainedModels/naivebayes_15_interval_model.joblib\")\n",
    "    elif(model == \"NB_30\"):\n",
    "        model = joblib.load(f\"{main_dir}TrainedModels/naivebayes_30_interval_model.joblib\")\n",
    "    elif(model == \"NB_60\"):\n",
    "        model = joblib.load(f\"{main_dir}TrainedModels/naivebayes_60_interval_model.joblib\")\n",
    "        \n",
    "    elif(model == \"LR_15\"):\n",
    "        model = joblib.load(f\"{main_dir}TrainedModels/logisticregression_15_interval_model.joblib\")\n",
    "    elif(model == \"LR_30\"):\n",
    "        model = joblib.load(f\"{main_dir}TrainedModels/logisticregression_30_interval_model.joblib\")\n",
    "    elif(model == \"LR_60\"):\n",
    "        model = joblib.load(f\"{main_dir}TrainedModels/logisticregression_60_interval_model.joblib\")\n",
    "        \n",
    "    prediction = model.predict(X)\n",
    "    pred = \"\"\n",
    "    \n",
    "    if(y.iloc[0] == 0):\n",
    "        pred = \"Not Hungry\"\n",
    "    elif(y.iloc[0] == 1):\n",
    "        pred = \"Hungry\"\n",
    "    \n",
    "    true_label = f\"Label={y.iloc[0]}\\tPrediction={pred}\"\n",
    "       \n",
    "    if(prediction[0] == 0):\n",
    "        pred = \"Not Hungry\"\n",
    "    elif(prediction[0] == 1):\n",
    "        pred = \"Hungry\"\n",
    "    \n",
    "    predicted = f\"Label={prediction[0]}\\tPrediction={pred}\" \n",
    "    \n",
    "    return true_label, predicted\n",
    "\n"
   ],
   "metadata": {
    "collapsed": false
   },
   "id": "512ee6fd15280855"
  },
  {
   "cell_type": "code",
   "execution_count": null,
   "outputs": [],
   "source": [
    "main_dir = \"HungerDetection/\"\n",
    "file_path = f\"{main_dir}TestExamples/t4.csv\"\n",
    "file = pd.read_csv(file_path)\n",
    "DetectHunger(main_dir, file, \"NB_60\")\n",
    "#type(true_label)\n",
    "#type(prediction[0])"
   ],
   "metadata": {
    "collapsed": false
   },
   "id": "88501fab246c184e"
  }
 ],
 "metadata": {
  "kernelspec": {
   "display_name": "Python 3",
   "language": "python",
   "name": "python3"
  },
  "language_info": {
   "codemirror_mode": {
    "name": "ipython",
    "version": 2
   },
   "file_extension": ".py",
   "mimetype": "text/x-python",
   "name": "python",
   "nbconvert_exporter": "python",
   "pygments_lexer": "ipython2",
   "version": "2.7.6"
  }
 },
 "nbformat": 4,
 "nbformat_minor": 5
}
